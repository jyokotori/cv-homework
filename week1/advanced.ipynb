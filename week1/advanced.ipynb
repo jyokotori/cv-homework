{
 "cells": [
  {
   "cell_type": "markdown",
   "metadata": {},
   "source": [
    "## 显示Lena图片"
   ]
  },
  {
   "cell_type": "code",
   "execution_count": null,
   "metadata": {},
   "outputs": [],
   "source": [
    "import cv2\n",
    "\n",
    "img_path = '/Users/kotori/Downloads/lenna-220px.png'\n",
    "img = cv2.imread(img_path)\n",
    "\n",
    "imgGauss = cv2.GaussianBlur(img, (5, 5), 0)\n",
    "imgHalfSize = cv2.resize(img, (int(img.shape[1] / 2), int(img.shape[0] / 2)))\n",
    "imgQuarterSize = cv2.pyrDown(imgHalfSize)\n",
    "gray = cv2.cvtColor(img, cv2.COLOR_BGR2GRAY)\n",
    "_, gray1 = cv2.threshold(gray, 120, 0xff, cv2.THRESH_BINARY)\n",
    "\n",
    "cv2.imshow(\"origin image\", img)\n",
    "cv2.imshow(\"Gaussian filtered image\", imgGauss)\n",
    "cv2.imshow(\"half size\", imgHalfSize)\n",
    "cv2.imshow(\"quarter size\", imgQuarterSize)\n",
    "cv2.imshow(\"gray\", gray)\n",
    "cv2.imshow(\"threshold image\", gray1)\n",
    "cv2.waitKey()\n",
    "cv2.destroyAllWindows()"
   ]
  },
  {
   "cell_type": "markdown",
   "metadata": {},
   "source": [
    "![](http://ww4.sinaimg.cn/large/006tNc79ly1g5ol9ypktej30oo0ym7wh.jpg)"
   ]
  },
  {
   "cell_type": "code",
   "execution_count": null,
   "metadata": {},
   "outputs": [],
   "source": [
    "import cv2\n",
    "\n",
    "img_path = '/Users/kotori/Downloads/lenna-220px.png'\n",
    "img = cv2.imread(img_path)\n",
    "\n",
    "img_grayscale = cv2.cvtColor(img, cv2.COLOR_BGR2GRAY)\n",
    "\n",
    "cv2.imshow(\"origin image\", img)\n",
    "cv2.imshow(\"grayscale image\", img_grayscale)\n",
    "\n",
    "hsv = cv2.cvtColor(img, cv2.COLOR_BGR2HSV)\n",
    "cv2.imshow(\"Hue\", hsv[:, :, 0])\n",
    "cv2.imshow(\"Saturation\", hsv[:, :, 1])\n",
    "cv2.imshow(\"Value\", hsv[:, :, 2])\n",
    "\n",
    "cv2.imshow(\"Blue\", img[:, :, 0])\n",
    "cv2.imshow(\"Green\", img[:, :, 1])\n",
    "cv2.imshow(\"Red\", img[:, :, 2])\n",
    "\n",
    "cv2.waitKey()\n",
    "cv2.destroyAllWindows()"
   ]
  },
  {
   "cell_type": "markdown",
   "metadata": {},
   "source": [
    "![](http://ww2.sinaimg.cn/large/006tNc79gy1g5ou2ichfyj310s0r47wh.jpg)"
   ]
  },
  {
   "cell_type": "code",
   "execution_count": null,
   "metadata": {},
   "outputs": [],
   "source": []
  }
 ],
 "metadata": {
  "kernelspec": {
   "display_name": "Python 3",
   "language": "python",
   "name": "python3"
  },
  "language_info": {
   "codemirror_mode": {
    "name": "ipython",
    "version": 3
   },
   "file_extension": ".py",
   "mimetype": "text/x-python",
   "name": "python",
   "nbconvert_exporter": "python",
   "pygments_lexer": "ipython3",
   "version": "3.7.3"
  }
 },
 "nbformat": 4,
 "nbformat_minor": 2
}
